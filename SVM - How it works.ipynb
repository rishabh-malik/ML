{
 "cells": [
  {
   "cell_type": "markdown",
   "metadata": {},
   "source": [
    "# Creating our own SVM algo from scratch"
   ]
  },
  {
   "cell_type": "code",
   "execution_count": 3,
   "metadata": {
    "collapsed": true
   },
   "outputs": [],
   "source": [
    "import matplotlib.pyplot as plt\n",
    "from matplotlib import style \n",
    "import numpy as np"
   ]
  },
  {
   "cell_type": "code",
   "execution_count": 7,
   "metadata": {
    "collapsed": true
   },
   "outputs": [],
   "source": [
    "style.use('ggplot')"
   ]
  },
  {
   "cell_type": "code",
   "execution_count": 8,
   "metadata": {
    "collapsed": true
   },
   "outputs": [],
   "source": [
    "class Support_vector_machine:\n",
    "    def __init__(self,visulaisation=True):\n",
    "        self.visualisation=visulaisation\n",
    "        self.colors={1:'r',-1:'g'}\n",
    "        if self.visualisation:\n",
    "            self.fig=plt.figure()\n",
    "            self.ax=self.figure.add_subplot(1,1,1) #creating a subplot\n",
    "    \n",
    "    #train the model\n",
    "    def fit(self,data):\n",
    "        self.data=data\n",
    "        \n",
    "        # {||w||:[w,b]}\n",
    "        opt_dict={}\n",
    "        \n",
    "        transforms=[[1,1],[-1,1],[-1,-1],[1,-1]]\n",
    "        \n",
    "        #getting max value\n",
    "        all_data=[]\n",
    "        for yi in self.data:\n",
    "            for featureset in self.data[yi]:\n",
    "                for feature in featureset:\n",
    "                    all_data.append(feature)\n",
    "                    \n",
    "        self.max_feature_value=max(all_data)\n",
    "        self.min_feature_value=min(all_data)\n",
    "        all_data=None\n",
    "        \n",
    "        step_sizes=[self.max_feature_value*0.1,\n",
    "                    self.max_feature_value*0.01,\n",
    "                    #point of expense\n",
    "                    self.max_feature_value*0.001]\n",
    "        \n",
    "        #expensive\n",
    "        b_range_multiple=5\n",
    "        b_multiple=5\n",
    "        \n",
    "        latest_optimum=self.max_feature_value*10\n",
    "        \n",
    "        for step in step_sizes:\n",
    "            w=np.array([latest_optimum,latest_optimum])\n",
    "            \n",
    "            #we can do this since its convex problem\n",
    "            optimised=False\n",
    "            while not optimised:\n",
    "                pass\n",
    "            \n",
    "            \n",
    "    \n",
    "    def predict(self,feature):\n",
    "        classification=np.sign(np.dot(np.array(features),self.w)+self.b)\n",
    "        return classification"
   ]
  },
  {
   "cell_type": "code",
   "execution_count": null,
   "metadata": {
    "collapsed": true
   },
   "outputs": [],
   "source": []
  },
  {
   "cell_type": "code",
   "execution_count": 9,
   "metadata": {
    "collapsed": true
   },
   "outputs": [],
   "source": [
    "data_dict={-1:np.array([[1,7],[2,8],[3,8]]),1:np.array([[[5,1],[6,-1],[7,3]]])}"
   ]
  },
  {
   "cell_type": "code",
   "execution_count": null,
   "metadata": {
    "collapsed": true
   },
   "outputs": [],
   "source": []
  }
 ],
 "metadata": {
  "kernelspec": {
   "display_name": "Python 3",
   "language": "python",
   "name": "python3"
  },
  "language_info": {
   "codemirror_mode": {
    "name": "ipython",
    "version": 3
   },
   "file_extension": ".py",
   "mimetype": "text/x-python",
   "name": "python",
   "nbconvert_exporter": "python",
   "pygments_lexer": "ipython3",
   "version": "3.6.3"
  }
 },
 "nbformat": 4,
 "nbformat_minor": 2
}
